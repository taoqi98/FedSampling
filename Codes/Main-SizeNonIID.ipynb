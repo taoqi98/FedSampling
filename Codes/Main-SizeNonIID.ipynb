{
 "cells": [
  {
   "cell_type": "code",
   "execution_count": 1,
   "metadata": {},
   "outputs": [],
   "source": [
    "import os"
   ]
  },
  {
   "cell_type": "code",
   "execution_count": 2,
   "metadata": {},
   "outputs": [],
   "source": [
    "#"
   ]
  },
  {
   "cell_type": "code",
   "execution_count": 3,
   "metadata": {},
   "outputs": [],
   "source": [
    "os.environ[\"CUDA_VISIBLE_DEVICES\"] = \"2\""
   ]
  },
  {
   "cell_type": "code",
   "execution_count": 4,
   "metadata": {
    "scrolled": true
   },
   "outputs": [
    {
     "name": "stdout",
     "output_type": "stream",
     "text": [
      "WARNING:tensorflow:Deprecation warnings have been disabled. Set TF_ENABLE_DEPRECATION_WARNINGS=1 to re-enable them.\n"
     ]
    },
    {
     "name": "stderr",
     "output_type": "stream",
     "text": [
      "Using TensorFlow backend.\n"
     ]
    }
   ],
   "source": [
    "import tensorflow as tf\n",
    "import keras.backend.tensorflow_backend as KTF\n",
    " \n",
    "config = tf.ConfigProto()  \n",
    "config.gpu_options.allow_growth=True  \n",
    "session = tf.Session(config=config)\n",
    " \n",
    "KTF.set_session(session)"
   ]
  },
  {
   "cell_type": "code",
   "execution_count": 5,
   "metadata": {},
   "outputs": [],
   "source": [
    "from DataLoader import *\n",
    "from Partation import *\n",
    "from Models import *\n",
    "from Utils import *\n",
    "from FedSampling import *"
   ]
  },
  {
   "cell_type": "code",
   "execution_count": null,
   "metadata": {},
   "outputs": [],
   "source": []
  },
  {
   "cell_type": "code",
   "execution_count": null,
   "metadata": {},
   "outputs": [],
   "source": []
  },
  {
   "cell_type": "code",
   "execution_count": 6,
   "metadata": {},
   "outputs": [],
   "source": [
    "data_root_path = None\n",
    "embedding_path = None\n",
    "MAX_SENTENCE = 30\n",
    "\n",
    "avg = 2\n",
    "std = 2.5"
   ]
  },
  {
   "cell_type": "code",
   "execution_count": 7,
   "metadata": {},
   "outputs": [],
   "source": [
    "train_data, train_labels, test_data, test_labels, word_dict, label_dict = load_text_data('MIND.tsv',MAX_SENTENCE,data_root_path)\n",
    "train_users = size_noniid(train_labels,avg,std)\n",
    "title_word_embedding_matrix = load_matrix(embedding_path,word_dict)"
   ]
  },
  {
   "cell_type": "code",
   "execution_count": null,
   "metadata": {},
   "outputs": [],
   "source": []
  },
  {
   "cell_type": "code",
   "execution_count": null,
   "metadata": {},
   "outputs": [],
   "source": []
  },
  {
   "cell_type": "code",
   "execution_count": null,
   "metadata": {},
   "outputs": [],
   "source": []
  },
  {
   "cell_type": "code",
   "execution_count": null,
   "metadata": {
    "scrolled": true
   },
   "outputs": [
    {
     "name": "stdout",
     "output_type": "stream",
     "text": [
      "WARNING:tensorflow:From /home/qit16/miniconda3/envs/qt_keras/lib/python3.6/site-packages/keras/backend/tensorflow_backend.py:74: The name tf.get_default_graph is deprecated. Please use tf.compat.v1.get_default_graph instead.\n",
      "\n",
      "WARNING:tensorflow:From /home/qit16/miniconda3/envs/qt_keras/lib/python3.6/site-packages/keras/backend/tensorflow_backend.py:517: The name tf.placeholder is deprecated. Please use tf.compat.v1.placeholder instead.\n",
      "\n",
      "WARNING:tensorflow:From /home/qit16/miniconda3/envs/qt_keras/lib/python3.6/site-packages/keras/backend/tensorflow_backend.py:4138: The name tf.random_uniform is deprecated. Please use tf.random.uniform instead.\n",
      "\n",
      "WARNING:tensorflow:From /home/qit16/miniconda3/envs/qt_keras/lib/python3.6/site-packages/keras/backend/tensorflow_backend.py:133: The name tf.placeholder_with_default is deprecated. Please use tf.compat.v1.placeholder_with_default instead.\n",
      "\n",
      "WARNING:tensorflow:From /home/qit16/miniconda3/envs/qt_keras/lib/python3.6/site-packages/keras/optimizers.py:790: The name tf.train.Optimizer is deprecated. Please use tf.compat.v1.train.Optimizer instead.\n",
      "\n",
      "WARNING:tensorflow:From /home/qit16/miniconda3/envs/qt_keras/lib/python3.6/site-packages/keras/backend/tensorflow_backend.py:3295: The name tf.log is deprecated. Please use tf.math.log instead.\n",
      "\n",
      "WARNING:tensorflow:From /home/qit16/miniconda3/envs/qt_keras/lib/python3.6/site-packages/keras/backend/tensorflow_backend.py:174: The name tf.get_default_session is deprecated. Please use tf.compat.v1.get_default_session instead.\n",
      "\n",
      "WARNING:tensorflow:From /home/qit16/miniconda3/envs/qt_keras/lib/python3.6/site-packages/keras/backend/tensorflow_backend.py:190: The name tf.global_variables is deprecated. Please use tf.compat.v1.global_variables instead.\n",
      "\n",
      "WARNING:tensorflow:From /home/qit16/miniconda3/envs/qt_keras/lib/python3.6/site-packages/keras/backend/tensorflow_backend.py:199: The name tf.is_variable_initialized is deprecated. Please use tf.compat.v1.is_variable_initialized instead.\n",
      "\n",
      "WARNING:tensorflow:From /home/qit16/miniconda3/envs/qt_keras/lib/python3.6/site-packages/keras/backend/tensorflow_backend.py:206: The name tf.variables_initializer is deprecated. Please use tf.compat.v1.variables_initializer instead.\n",
      "\n",
      "WARNING:tensorflow:From /home/qit16/miniconda3/envs/qt_keras/lib/python3.6/site-packages/keras/backend/tensorflow_backend.py:986: The name tf.assign_add is deprecated. Please use tf.compat.v1.assign_add instead.\n",
      "\n",
      "WARNING:tensorflow:From /home/qit16/miniconda3/envs/qt_keras/lib/python3.6/site-packages/keras/backend/tensorflow_backend.py:973: The name tf.assign is deprecated. Please use tf.compat.v1.assign instead.\n",
      "\n",
      "0.45591109938046454 0.6821598404663292 0.6668064235800832\n",
      "0.4445003856834443 0.6936263230556834 0.6592708142591017\n",
      "0.49369247643945857 0.7074704709311244 0.686931911594244\n",
      "0.4921176223101895 0.7066267832489646 0.6825278611729177\n",
      "0.5124709328248443 0.7128393925448688 0.6966585291606077\n",
      "0.5099376054080266 0.7031369842000307 0.6918203740138263\n",
      "0.49572682568106197 0.7114588127013346 0.6889335521143184\n",
      "0.5140531196563296 0.7072020248504371 0.6944647895248044\n",
      "0.5097341915413627 0.7124942475839852 0.6938528937424132\n",
      "0.5157505238890862 0.7087360024543642 0.7001086672470709\n",
      "0.5063073895236315 0.716367541033901 0.6963778690285688\n",
      "0.5168848674923543 0.722311704249118 0.7058190285733763\n",
      "0.5110917395451482 0.7155622027918394 0.6966631338398089\n",
      "0.523482231022398 0.7160223960730173 0.7045185995041494\n",
      "0.5096199665762425 0.7026767909188526 0.6942689178547808\n",
      "0.5061967197174683 0.713337935266145 0.6969845307455139\n",
      "0.5075031168833526 0.7142966712685995 0.6957998659136305\n",
      "0.4999737934913696 0.7048627090044486 0.6871814147028252\n",
      "0.5201202245030631 0.7145267679091887 0.701604561286163\n"
     ]
    }
   ],
   "source": [
    "model_mode = 'CNN'\n",
    "alpha,M = 0.5,100\n",
    "\n",
    "lr = 0.05\n",
    "user_num = 12\n",
    "K = int(np.ceil(user_num*np.array([len(train_users[uid]) for uid in train_users]).mean()))\n",
    "\n",
    "model = get_model(model_mode,lr,MAX_SENTENCE,len(label_dict))\n",
    "for i in range(20):    \n",
    "    FedSamplingText(alpha,M,K,model,train_users,train_data,train_labels,title_word_embedding_matrix)\n",
    "    pred = model.predict(title_word_embedding_matrix[test_data]).argmax(axis=-1)\n",
    "    lbs = test_labels.argmax(axis=-1)\n",
    "    macro_f1 = f1_score(lbs,pred,average='macro',)\n",
    "    micro_f1 = f1_score(lbs,pred,average='micro')\n",
    "    weight_f1 = f1_score(lbs,pred,average='weighted')\n",
    "    print(macro_f1,micro_f1,weight_f1)"
   ]
  },
  {
   "cell_type": "code",
   "execution_count": null,
   "metadata": {},
   "outputs": [],
   "source": []
  },
  {
   "cell_type": "code",
   "execution_count": null,
   "metadata": {},
   "outputs": [],
   "source": []
  },
  {
   "cell_type": "code",
   "execution_count": null,
   "metadata": {},
   "outputs": [],
   "source": []
  },
  {
   "cell_type": "code",
   "execution_count": null,
   "metadata": {},
   "outputs": [],
   "source": []
  },
  {
   "cell_type": "code",
   "execution_count": null,
   "metadata": {},
   "outputs": [],
   "source": []
  },
  {
   "cell_type": "code",
   "execution_count": null,
   "metadata": {},
   "outputs": [],
   "source": []
  },
  {
   "cell_type": "code",
   "execution_count": null,
   "metadata": {},
   "outputs": [],
   "source": []
  },
  {
   "cell_type": "code",
   "execution_count": null,
   "metadata": {},
   "outputs": [],
   "source": []
  },
  {
   "cell_type": "code",
   "execution_count": null,
   "metadata": {},
   "outputs": [],
   "source": []
  },
  {
   "cell_type": "code",
   "execution_count": null,
   "metadata": {},
   "outputs": [],
   "source": []
  }
 ],
 "metadata": {
  "kernelspec": {
   "display_name": "Python 3 (ipykernel)",
   "language": "python",
   "name": "python3"
  },
  "language_info": {
   "codemirror_mode": {
    "name": "ipython",
    "version": 3
   },
   "file_extension": ".py",
   "mimetype": "text/x-python",
   "name": "python",
   "nbconvert_exporter": "python",
   "pygments_lexer": "ipython3",
   "version": "3.9.13"
  }
 },
 "nbformat": 4,
 "nbformat_minor": 4
}
